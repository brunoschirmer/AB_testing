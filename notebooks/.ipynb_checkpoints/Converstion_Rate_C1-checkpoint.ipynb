{
 "cells": [
  {
   "cell_type": "markdown",
   "id": "cb15e1ef",
   "metadata": {},
   "source": [
    "# AB Testing Course - PA Bond"
   ]
  },
  {
   "cell_type": "code",
   "execution_count": 1,
   "id": "9067b24e",
   "metadata": {
    "ExecuteTime": {
     "end_time": "2022-05-21T00:36:15.150460Z",
     "start_time": "2022-05-21T00:36:15.147634Z"
    }
   },
   "outputs": [],
   "source": [
    "# Problema de Negócio: Qual a melhor forma de pagamento: Preenchimento Manual ou Automático do\n",
    "# formulário de dados do cartão de crédito?\n",
    "\n",
    "# Coluna Device:\n",
    "\n",
    "# I = Compra feita através do site\n",
    "# A= Compra feita através do App\n",
    "\n",
    "# Coluna Group:\n",
    "\n",
    "# A = Preenchimento automático\n",
    "# B = Preenhimento manual"
   ]
  },
  {
   "cell_type": "markdown",
   "id": "86197b68",
   "metadata": {
    "ExecuteTime": {
     "end_time": "2022-05-20T16:21:56.524166Z",
     "start_time": "2022-05-20T16:21:56.521764Z"
    }
   },
   "source": [
    "# 1.0 IMPORTS"
   ]
  },
  {
   "cell_type": "code",
   "execution_count": 10,
   "id": "2e4d06f3",
   "metadata": {
    "ExecuteTime": {
     "end_time": "2022-05-21T00:51:56.042989Z",
     "start_time": "2022-05-21T00:51:56.040374Z"
    }
   },
   "outputs": [],
   "source": [
    "import pingouin as pg"
   ]
  },
  {
   "cell_type": "code",
   "execution_count": 9,
   "id": "223c4f67",
   "metadata": {
    "ExecuteTime": {
     "end_time": "2022-05-21T00:51:54.274260Z",
     "start_time": "2022-05-21T00:51:54.270991Z"
    }
   },
   "outputs": [],
   "source": [
    "import pandas as pd\n",
    "import numpy as np\n",
    "from statsmodels.stats import api as sms\n",
    "import math as math\n",
    "import pingouin as pg"
   ]
  },
  {
   "cell_type": "markdown",
   "id": "4251a0fe",
   "metadata": {},
   "source": [
    "# 2.0 DATA LOADING"
   ]
  },
  {
   "cell_type": "code",
   "execution_count": 14,
   "id": "239592ad",
   "metadata": {
    "ExecuteTime": {
     "end_time": "2022-05-21T15:10:05.363512Z",
     "start_time": "2022-05-21T15:10:05.318250Z"
    }
   },
   "outputs": [],
   "source": [
    "df_raw = pd.read_csv('/Users/brunoschirmer/Repos/ab_test/data/raw/ab_testing.csv')"
   ]
  },
  {
   "cell_type": "code",
   "execution_count": 15,
   "id": "3a54fceb",
   "metadata": {
    "ExecuteTime": {
     "end_time": "2022-05-21T15:10:06.058060Z",
     "start_time": "2022-05-21T15:10:06.046766Z"
    }
   },
   "outputs": [
    {
     "data": {
      "text/html": [
       "<div>\n",
       "<style scoped>\n",
       "    .dataframe tbody tr th:only-of-type {\n",
       "        vertical-align: middle;\n",
       "    }\n",
       "\n",
       "    .dataframe tbody tr th {\n",
       "        vertical-align: top;\n",
       "    }\n",
       "\n",
       "    .dataframe thead th {\n",
       "        text-align: right;\n",
       "    }\n",
       "</style>\n",
       "<table border=\"1\" class=\"dataframe\">\n",
       "  <thead>\n",
       "    <tr style=\"text-align: right;\">\n",
       "      <th></th>\n",
       "      <th>uid</th>\n",
       "      <th>country</th>\n",
       "      <th>gender</th>\n",
       "      <th>spent</th>\n",
       "      <th>purchases</th>\n",
       "      <th>date</th>\n",
       "      <th>group</th>\n",
       "      <th>device</th>\n",
       "    </tr>\n",
       "  </thead>\n",
       "  <tbody>\n",
       "    <tr>\n",
       "      <th>0</th>\n",
       "      <td>11115722</td>\n",
       "      <td>MEX</td>\n",
       "      <td>F</td>\n",
       "      <td>1595</td>\n",
       "      <td>5</td>\n",
       "      <td>2016-03-08</td>\n",
       "      <td>GRP B</td>\n",
       "      <td>I</td>\n",
       "    </tr>\n",
       "    <tr>\n",
       "      <th>1</th>\n",
       "      <td>11122053</td>\n",
       "      <td>USA</td>\n",
       "      <td>M</td>\n",
       "      <td>498</td>\n",
       "      <td>2</td>\n",
       "      <td>2017-07-14</td>\n",
       "      <td>GRP B</td>\n",
       "      <td>I</td>\n",
       "    </tr>\n",
       "    <tr>\n",
       "      <th>2</th>\n",
       "      <td>11128688</td>\n",
       "      <td>USA</td>\n",
       "      <td>F</td>\n",
       "      <td>2394</td>\n",
       "      <td>6</td>\n",
       "      <td>2017-09-17</td>\n",
       "      <td>GRP A</td>\n",
       "      <td>I</td>\n",
       "    </tr>\n",
       "    <tr>\n",
       "      <th>3</th>\n",
       "      <td>11130578</td>\n",
       "      <td>USA</td>\n",
       "      <td>F</td>\n",
       "      <td>1197</td>\n",
       "      <td>3</td>\n",
       "      <td>2017-11-30</td>\n",
       "      <td>GRP A</td>\n",
       "      <td>I</td>\n",
       "    </tr>\n",
       "    <tr>\n",
       "      <th>4</th>\n",
       "      <td>11130759</td>\n",
       "      <td>ESP</td>\n",
       "      <td>M</td>\n",
       "      <td>1297</td>\n",
       "      <td>3</td>\n",
       "      <td>2018-01-10</td>\n",
       "      <td>GRP B</td>\n",
       "      <td>A</td>\n",
       "    </tr>\n",
       "  </tbody>\n",
       "</table>\n",
       "</div>"
      ],
      "text/plain": [
       "        uid country gender  spent  purchases        date  group device\n",
       "0  11115722     MEX      F   1595          5  2016-03-08  GRP B      I\n",
       "1  11122053     USA      M    498          2  2017-07-14  GRP B      I\n",
       "2  11128688     USA      F   2394          6  2017-09-17  GRP A      I\n",
       "3  11130578     USA      F   1197          3  2017-11-30  GRP A      I\n",
       "4  11130759     ESP      M   1297          3  2018-01-10  GRP B      A"
      ]
     },
     "execution_count": 15,
     "metadata": {},
     "output_type": "execute_result"
    }
   ],
   "source": [
    "df_raw.head()"
   ]
  },
  {
   "cell_type": "code",
   "execution_count": 16,
   "id": "1264f579",
   "metadata": {
    "ExecuteTime": {
     "end_time": "2022-05-21T15:10:07.159089Z",
     "start_time": "2022-05-21T15:10:07.154846Z"
    }
   },
   "outputs": [
    {
     "data": {
      "text/plain": [
       "(45883, 8)"
      ]
     },
     "execution_count": 16,
     "metadata": {},
     "output_type": "execute_result"
    }
   ],
   "source": [
    "df_raw.shape"
   ]
  },
  {
   "cell_type": "code",
   "execution_count": 17,
   "id": "dace384f",
   "metadata": {
    "ExecuteTime": {
     "end_time": "2022-05-21T15:10:08.916231Z",
     "start_time": "2022-05-21T15:10:08.901550Z"
    }
   },
   "outputs": [
    {
     "data": {
      "text/html": [
       "<div>\n",
       "<style scoped>\n",
       "    .dataframe tbody tr th:only-of-type {\n",
       "        vertical-align: middle;\n",
       "    }\n",
       "\n",
       "    .dataframe tbody tr th {\n",
       "        vertical-align: top;\n",
       "    }\n",
       "\n",
       "    .dataframe thead th {\n",
       "        text-align: right;\n",
       "    }\n",
       "</style>\n",
       "<table border=\"1\" class=\"dataframe\">\n",
       "  <thead>\n",
       "    <tr style=\"text-align: right;\">\n",
       "      <th></th>\n",
       "      <th>uid</th>\n",
       "      <th>country</th>\n",
       "      <th>gender</th>\n",
       "      <th>spent</th>\n",
       "      <th>purchases</th>\n",
       "      <th>date</th>\n",
       "      <th>group</th>\n",
       "      <th>device</th>\n",
       "    </tr>\n",
       "  </thead>\n",
       "  <tbody>\n",
       "    <tr>\n",
       "      <th>0</th>\n",
       "      <td>11115722</td>\n",
       "      <td>MEX</td>\n",
       "      <td>F</td>\n",
       "      <td>1595</td>\n",
       "      <td>5</td>\n",
       "      <td>2016-03-08</td>\n",
       "      <td>control</td>\n",
       "      <td>I</td>\n",
       "    </tr>\n",
       "    <tr>\n",
       "      <th>1</th>\n",
       "      <td>11122053</td>\n",
       "      <td>USA</td>\n",
       "      <td>M</td>\n",
       "      <td>498</td>\n",
       "      <td>2</td>\n",
       "      <td>2017-07-14</td>\n",
       "      <td>control</td>\n",
       "      <td>I</td>\n",
       "    </tr>\n",
       "    <tr>\n",
       "      <th>2</th>\n",
       "      <td>11128688</td>\n",
       "      <td>USA</td>\n",
       "      <td>F</td>\n",
       "      <td>2394</td>\n",
       "      <td>6</td>\n",
       "      <td>2017-09-17</td>\n",
       "      <td>treatment</td>\n",
       "      <td>I</td>\n",
       "    </tr>\n",
       "    <tr>\n",
       "      <th>3</th>\n",
       "      <td>11130578</td>\n",
       "      <td>USA</td>\n",
       "      <td>F</td>\n",
       "      <td>1197</td>\n",
       "      <td>3</td>\n",
       "      <td>2017-11-30</td>\n",
       "      <td>treatment</td>\n",
       "      <td>I</td>\n",
       "    </tr>\n",
       "    <tr>\n",
       "      <th>4</th>\n",
       "      <td>11130759</td>\n",
       "      <td>ESP</td>\n",
       "      <td>M</td>\n",
       "      <td>1297</td>\n",
       "      <td>3</td>\n",
       "      <td>2018-01-10</td>\n",
       "      <td>control</td>\n",
       "      <td>A</td>\n",
       "    </tr>\n",
       "  </tbody>\n",
       "</table>\n",
       "</div>"
      ],
      "text/plain": [
       "        uid country gender  spent  purchases        date      group device\n",
       "0  11115722     MEX      F   1595          5  2016-03-08    control      I\n",
       "1  11122053     USA      M    498          2  2017-07-14    control      I\n",
       "2  11128688     USA      F   2394          6  2017-09-17  treatment      I\n",
       "3  11130578     USA      F   1197          3  2017-11-30  treatment      I\n",
       "4  11130759     ESP      M   1297          3  2018-01-10    control      A"
      ]
     },
     "execution_count": 17,
     "metadata": {},
     "output_type": "execute_result"
    }
   ],
   "source": [
    "group_map = {'GRP A': 'treatment', 'GRP B': 'control'}\n",
    "df_raw['group'] = df_raw['group'].map(group_map)\n",
    "df_raw.head()"
   ]
  },
  {
   "cell_type": "code",
   "execution_count": 18,
   "id": "cbf4f0d5",
   "metadata": {
    "ExecuteTime": {
     "end_time": "2022-05-21T15:10:25.174875Z",
     "start_time": "2022-05-21T15:10:25.157444Z"
    }
   },
   "outputs": [
    {
     "data": {
      "text/html": [
       "<div>\n",
       "<style scoped>\n",
       "    .dataframe tbody tr th:only-of-type {\n",
       "        vertical-align: middle;\n",
       "    }\n",
       "\n",
       "    .dataframe tbody tr th {\n",
       "        vertical-align: top;\n",
       "    }\n",
       "\n",
       "    .dataframe thead th {\n",
       "        text-align: right;\n",
       "    }\n",
       "</style>\n",
       "<table border=\"1\" class=\"dataframe\">\n",
       "  <thead>\n",
       "    <tr style=\"text-align: right;\">\n",
       "      <th></th>\n",
       "      <th>group</th>\n",
       "      <th>uid</th>\n",
       "    </tr>\n",
       "  </thead>\n",
       "  <tbody>\n",
       "    <tr>\n",
       "      <th>0</th>\n",
       "      <td>control</td>\n",
       "      <td>22874</td>\n",
       "    </tr>\n",
       "    <tr>\n",
       "      <th>1</th>\n",
       "      <td>treatment</td>\n",
       "      <td>23009</td>\n",
       "    </tr>\n",
       "  </tbody>\n",
       "</table>\n",
       "</div>"
      ],
      "text/plain": [
       "       group    uid\n",
       "0    control  22874\n",
       "1  treatment  23009"
      ]
     },
     "execution_count": 18,
     "metadata": {},
     "output_type": "execute_result"
    }
   ],
   "source": [
    "aux3 = df_raw[['uid', 'group']].groupby( 'group' ).count().reset_index()\n",
    "aux3"
   ]
  },
  {
   "cell_type": "code",
   "execution_count": 19,
   "id": "e2b95959",
   "metadata": {
    "ExecuteTime": {
     "end_time": "2022-05-21T15:10:35.727742Z",
     "start_time": "2022-05-21T15:10:35.713358Z"
    }
   },
   "outputs": [
    {
     "data": {
      "text/html": [
       "<div>\n",
       "<style scoped>\n",
       "    .dataframe tbody tr th:only-of-type {\n",
       "        vertical-align: middle;\n",
       "    }\n",
       "\n",
       "    .dataframe tbody tr th {\n",
       "        vertical-align: top;\n",
       "    }\n",
       "\n",
       "    .dataframe thead th {\n",
       "        text-align: right;\n",
       "    }\n",
       "</style>\n",
       "<table border=\"1\" class=\"dataframe\">\n",
       "  <thead>\n",
       "    <tr style=\"text-align: right;\">\n",
       "      <th></th>\n",
       "      <th>group</th>\n",
       "      <th>spent</th>\n",
       "    </tr>\n",
       "  </thead>\n",
       "  <tbody>\n",
       "    <tr>\n",
       "      <th>0</th>\n",
       "      <td>control</td>\n",
       "      <td>1886.419822</td>\n",
       "    </tr>\n",
       "    <tr>\n",
       "      <th>1</th>\n",
       "      <td>treatment</td>\n",
       "      <td>1880.504281</td>\n",
       "    </tr>\n",
       "  </tbody>\n",
       "</table>\n",
       "</div>"
      ],
      "text/plain": [
       "       group        spent\n",
       "0    control  1886.419822\n",
       "1  treatment  1880.504281"
      ]
     },
     "execution_count": 19,
     "metadata": {},
     "output_type": "execute_result"
    }
   ],
   "source": [
    "aux4 = df_raw[['group', 'spent']].groupby( 'group' ).mean().reset_index()\n",
    "aux4"
   ]
  },
  {
   "cell_type": "code",
   "execution_count": 26,
   "id": "5953040c",
   "metadata": {
    "ExecuteTime": {
     "end_time": "2022-05-21T15:20:25.134214Z",
     "start_time": "2022-05-21T15:20:25.097533Z"
    }
   },
   "outputs": [
    {
     "data": {
      "text/plain": [
       "uid          0\n",
       "country      0\n",
       "gender       0\n",
       "spent        0\n",
       "purchases    0\n",
       "date         0\n",
       "group        0\n",
       "device       0\n",
       "dtype: int64"
      ]
     },
     "execution_count": 26,
     "metadata": {},
     "output_type": "execute_result"
    }
   ],
   "source": [
    "df_raw.isna().sum()"
   ]
  },
  {
   "cell_type": "markdown",
   "id": "271ddac9",
   "metadata": {},
   "source": [
    "# 3.0 DESIGN DO EXPERIMENTO"
   ]
  },
  {
   "cell_type": "code",
   "execution_count": 36,
   "id": "cee4efc6",
   "metadata": {
    "ExecuteTime": {
     "end_time": "2022-05-21T15:28:51.026961Z",
     "start_time": "2022-05-21T15:28:51.012851Z"
    }
   },
   "outputs": [
    {
     "data": {
      "text/plain": [
       "1880.5042809335478"
      ]
     },
     "execution_count": 36,
     "metadata": {},
     "output_type": "execute_result"
    }
   ],
   "source": [
    "df_control = df_raw[df_raw['group'] =='control']\n",
    "df_treatment = df_raw[df_raw['group'] =='treatment']\n",
    "\n",
    "df_treatment['spent'].mean()"
   ]
  },
  {
   "cell_type": "code",
   "execution_count": 40,
   "id": "140c0b90",
   "metadata": {
    "ExecuteTime": {
     "end_time": "2022-05-21T15:29:59.184832Z",
     "start_time": "2022-05-21T15:29:59.179918Z"
    }
   },
   "outputs": [
    {
     "data": {
      "text/plain": [
       "0.00433711906623249"
      ]
     },
     "execution_count": 40,
     "metadata": {},
     "output_type": "execute_result"
    }
   ],
   "source": [
    "# Teste a ser usado: Cohen’s d\n",
    "# Cohen’s d mede a diferença entre as médias de duas amostras\n",
    "\n",
    "import pingouin as pg\n",
    "\n",
    "effect_size = pg.compute_effsize(x=df_control['spent'], y=df_treatment['spent'], eftype='cohen')\n",
    "effect_size"
   ]
  },
  {
   "cell_type": "markdown",
   "id": "cd918a84",
   "metadata": {
    "ExecuteTime": {
     "end_time": "2022-05-20T16:30:53.120814Z",
     "start_time": "2022-05-20T16:30:53.118717Z"
    }
   },
   "source": [
    "## 3.1 FORMULAÇÃO DAS HIPÓTESES"
   ]
  },
  {
   "cell_type": "code",
   "execution_count": null,
   "id": "4c6876fc",
   "metadata": {},
   "outputs": [],
   "source": []
  },
  {
   "cell_type": "markdown",
   "id": "0bd5536b",
   "metadata": {
    "ExecuteTime": {
     "end_time": "2022-05-20T16:31:29.230774Z",
     "start_time": "2022-05-20T16:31:29.228346Z"
    }
   },
   "source": [
    "## 2.2 PARAMÊTROS DO EXPERIMENTO"
   ]
  },
  {
   "cell_type": "code",
   "execution_count": 41,
   "id": "3ce0dacf",
   "metadata": {
    "ExecuteTime": {
     "end_time": "2022-05-21T15:32:40.123950Z",
     "start_time": "2022-05-21T15:32:40.119631Z"
    }
   },
   "outputs": [],
   "source": [
    "# Nível de confiança\n",
    "confidence_level = 0.95\n",
    "\n",
    "# Nível de significância\n",
    "alpha = 0.05\n",
    "\n",
    "# Média gasta nas páginas\n",
    "u1 = 1886\n",
    "u2 = 1880\n",
    "\n",
    "# Tamanho do efeito\n",
    "effect_size = pg.compute_effsize(x=df_control['spent'], y=df_treatment['spent'], eftype='cohen')\n",
    "\n",
    "# Poder estatistico ou Power = 80% ( O poder estatístico é a probabilidade em que um teste pode detectar\n",
    "#corretamente um efeito real quando realmente existe um )\n",
    "power = 0.80"
   ]
  },
  {
   "cell_type": "code",
   "execution_count": 42,
   "id": "e537b3d0",
   "metadata": {
    "ExecuteTime": {
     "end_time": "2022-05-21T15:32:53.586896Z",
     "start_time": "2022-05-21T15:32:53.567659Z"
    }
   },
   "outputs": [],
   "source": [
    "# Sample size\n",
    "sample_n = sms.NormalIndPower().solve_power(\n",
    "            effect_size,\n",
    "            power=power,\n",
    "            alpha=alpha)\n",
    "\n",
    "sample_n = math.ceil(sample_n)"
   ]
  },
  {
   "cell_type": "code",
   "execution_count": 43,
   "id": "a5bd09b1",
   "metadata": {
    "ExecuteTime": {
     "end_time": "2022-05-21T15:32:56.779237Z",
     "start_time": "2022-05-21T15:32:56.775416Z"
    }
   },
   "outputs": [
    {
     "name": "stdout",
     "output_type": "stream",
     "text": [
      "O tamanho total da amostra é de: 1669030\n",
      "O tamanho de cada amostra é de: 834515\n"
     ]
    }
   ],
   "source": [
    "# Tamanho total da amostra\n",
    "\n",
    "print('O tamanho total da amostra é de: {}'.format(sample_n*2))\n",
    "print('O tamanho de cada amostra é de: {}'.format(sample_n))"
   ]
  },
  {
   "cell_type": "code",
   "execution_count": null,
   "id": "bb9efe86",
   "metadata": {},
   "outputs": [],
   "source": []
  },
  {
   "cell_type": "code",
   "execution_count": null,
   "id": "86e61a1f",
   "metadata": {},
   "outputs": [],
   "source": []
  },
  {
   "cell_type": "code",
   "execution_count": null,
   "id": "c999d53c",
   "metadata": {},
   "outputs": [],
   "source": []
  },
  {
   "cell_type": "code",
   "execution_count": null,
   "id": "2dc1ab15",
   "metadata": {},
   "outputs": [],
   "source": []
  },
  {
   "cell_type": "code",
   "execution_count": null,
   "id": "55302c68",
   "metadata": {},
   "outputs": [],
   "source": []
  },
  {
   "cell_type": "code",
   "execution_count": null,
   "id": "93ad9c2e",
   "metadata": {},
   "outputs": [],
   "source": []
  },
  {
   "cell_type": "code",
   "execution_count": null,
   "id": "1468f631",
   "metadata": {},
   "outputs": [],
   "source": []
  },
  {
   "cell_type": "code",
   "execution_count": null,
   "id": "0321d6b0",
   "metadata": {},
   "outputs": [],
   "source": []
  },
  {
   "cell_type": "code",
   "execution_count": null,
   "id": "e20fef99",
   "metadata": {},
   "outputs": [],
   "source": []
  },
  {
   "cell_type": "code",
   "execution_count": null,
   "id": "ac8e8fd6",
   "metadata": {},
   "outputs": [],
   "source": []
  },
  {
   "cell_type": "code",
   "execution_count": null,
   "id": "e3ee3781",
   "metadata": {},
   "outputs": [],
   "source": []
  }
 ],
 "metadata": {
  "kernelspec": {
   "display_name": "Python 3 (ipykernel)",
   "language": "python",
   "name": "python3"
  },
  "language_info": {
   "codemirror_mode": {
    "name": "ipython",
    "version": 3
   },
   "file_extension": ".py",
   "mimetype": "text/x-python",
   "name": "python",
   "nbconvert_exporter": "python",
   "pygments_lexer": "ipython3",
   "version": "3.10.0"
  }
 },
 "nbformat": 4,
 "nbformat_minor": 5
}
